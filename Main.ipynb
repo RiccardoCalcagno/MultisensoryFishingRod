{
 "cells": [
  {
   "cell_type": "code",
   "execution_count": null,
   "id": "e1dbd9cc-3f55-4c96-a8db-bc4ff15e9a40",
   "metadata": {},
   "outputs": [
    {
     "name": "stdout",
     "output_type": "stream",
     "text": [
      "Collecting head pose updates...\n",
      "running:  C:\\Users\\Utente\\OneDrive\\Documentos\\GitHub\\MultisensoryFishingRod\\MultisensoryFishingPython\\OpenFace_2.2.0_win_x64\\HeadPoseLive.exe\n"
     ]
    }
   ],
   "source": [
    "import time\n",
    "import zmq\n",
    "import subprocess\n",
    "import threading\n",
    "import os\n",
    "import serial\n",
    "\n",
    "\n",
    "def launch_exe():\n",
    "    # Sostituisci 'percorso_del_tuo_file.exe' con il percorso del tuo file exe\n",
    "    script_dir = os.getcwd() #os.path.dirname(os.path.abspath(__file__))\n",
    "    relative_exe_dir = os.path.join(script_dir, \"MultisensoryFishingPython\", \"OpenFace_2.2.0_win_x64\")\n",
    "    \n",
    "    try:\n",
    "        os.chdir(relative_exe_dir)\n",
    "        print(\"running: \",os.path.join(relative_exe_dir, \"HeadPoseLive.exe\"))\n",
    "        subprocess.run(\"HeadPoseLive.exe\", shell=True)\n",
    "    except Exception as e:\n",
    "        print(f\"Si è verificato un errore: {e}\")\n",
    "\n",
    "def start_exe_thread():\n",
    "    exe_thread = threading.Thread(target=launch_exe)\n",
    "    exe_thread.start()\n",
    "\n",
    "def main():\n",
    "\n",
    "    import zmq\n",
    "    port = \"5000\"\n",
    "\n",
    "    context = zmq.Context()\n",
    "    socket = context.socket(zmq.SUB)\n",
    "\n",
    "    print(\"Collecting head pose updates...\")\n",
    "\n",
    "    socket.connect (\"tcp://localhost:%s\" % port)\n",
    "    topic_filter = b\"HeadPose:\"\n",
    "    socket.setsockopt(zmq.SUBSCRIBE, topic_filter)\n",
    "\n",
    "    try:\n",
    "        while True:\n",
    "            head_pose = socket.recv().decode('utf-8') \n",
    "            head_pose = head_pose[9:].split(',')\n",
    "            X = float(head_pose[0])\n",
    "            Y = float(head_pose[2])\n",
    "            Z = float(head_pose[4])\n",
    "            data = '%.1f,%.1f,%.1f_' % (X, Y, Z)\n",
    "            if(ser.isOpen()):\n",
    "                ser.write(data.encode())\n",
    "    except:\n",
    "        if(ser != None):\n",
    "            ser.close()  \n",
    "\n",
    "if __name__ == '__main__':\n",
    "    #print(serial.tools.list_ports.comports())\n",
    "    ser = serial.Serial('COM1', baudrate=115200)\n",
    "    start_exe_thread()\n",
    "    main()\n",
    "    "
   ]
  },
  {
   "cell_type": "code",
   "execution_count": null,
   "id": "019fb840-0653-41a7-b449-f45b02dea5ac",
   "metadata": {},
   "outputs": [],
   "source": []
  },
  {
   "cell_type": "code",
   "execution_count": null,
   "id": "4f3894f9-6bb7-49ee-891e-0d30305a3fe0",
   "metadata": {},
   "outputs": [],
   "source": []
  },
  {
   "cell_type": "code",
   "execution_count": null,
   "id": "789fb203-2171-402f-ac9e-dfb105da6367",
   "metadata": {},
   "outputs": [],
   "source": []
  }
 ],
 "metadata": {
  "kernelspec": {
   "display_name": "Python 3 (ipykernel)",
   "language": "python",
   "name": "python3"
  },
  "language_info": {
   "codemirror_mode": {
    "name": "ipython",
    "version": 3
   },
   "file_extension": ".py",
   "mimetype": "text/x-python",
   "name": "python",
   "nbconvert_exporter": "python",
   "pygments_lexer": "ipython3",
   "version": "3.11.5"
  }
 },
 "nbformat": 4,
 "nbformat_minor": 5
}
